{
 "cells": [
  {
   "cell_type": "code",
   "execution_count": 1,
   "metadata": {},
   "outputs": [],
   "source": [
    "import pandas as pd"
   ]
  },
  {
   "cell_type": "code",
   "execution_count": 2,
   "metadata": {},
   "outputs": [],
   "source": [
    "from langchain_chroma import Chroma\n",
    "from langchain_upstage import UpstageEmbeddings\n",
    "from langchain.docstore.document import Document"
   ]
  },
  {
   "cell_type": "code",
   "execution_count": 3,
   "metadata": {},
   "outputs": [],
   "source": [
    "df = pd.read_csv(\"data/arts02.csv\")"
   ]
  },
  {
   "cell_type": "code",
   "execution_count": 4,
   "metadata": {},
   "outputs": [],
   "source": [
    "full_docs_list = df['작품 설명'].tolist()\n",
    "\n",
    "art_full_docs = [Document(page_content=text) for text in full_docs_list]\n",
    "\n",
    "vectorstore = Chroma.from_documents(\n",
    "    documents=art_full_docs,\n",
    "    embedding=UpstageEmbeddings(model=\"solar-embedding-1-large\"),\n",
    "    collection_name=\"full_art_index\",\n",
    ")\n",
    "\n",
    "retriever_full = vectorstore.as_retriever()"
   ]
  },
  {
   "cell_type": "code",
   "execution_count": 5,
   "metadata": {},
   "outputs": [
    {
     "name": "stdout",
     "output_type": "stream",
     "text": [
      "일랑(一浪) 이종상(李鍾祥, 1938-)은 서울대학교 미술대학 회화과에 입학하여 재학 중이던 1961년, 1962년 《제10회, 제11회 대한민국미술전람회》에서 연달아 특선을 받았다. 1964년부터 국전의 추천작가가 되었으며, 1968년부터는 서울대학교 동양화과 교수로 재직하며 후진을 양성했다. 이종상은 1960년대 전반 노동 현장을 소재로 한 구상화를 제작했으나, 1960년대 후반부터는 추상화 작업으로 이행했다. 특히 1960년대 후반에서 1970년대 후반까지 벽화에 관심을 가져 전통 벽화를 현대적인 미감으로 재해석했다. 이외에도 겸재 정선의 진경산수 정신성을 연구해, 한국의 풍광을 호방한 스케일과 즉흥적인 필세로 표현했다.\n",
      "\n",
      "\n",
      "<허수아비>는 해가 저물어 황금빛으로 변하는 들판에 허수아비가 서 있는 장면을 담은 작품이다. 참새를 내쫓는 용도의 허수아비는 오히려 인자한 웃음을 머금은 채 새들에게 쉴 곳을 내어주고 있다. 허수아비 뒤편의 인물들은 휘파람을 불고 지팡이를 하늘을 향해 치켜들며 새를 내쫓으려 하고 있다. 사투를 벌이는 농민과 너그러운 허수아비의 모습이 대조되어 익살스러우면서도 정겹게 표현되었다. 작가는 세부적인 묘사는 생략하고 황토색 계열의 따뜻한 색채로 향토적인 서정성을 담아내며, 한국의 농촌 풍경을 낭만적으로 표현했다.\n",
      "\n",
      "\n"
     ]
    }
   ],
   "source": [
    "result_docs = retriever_full.invoke(\"허수아비라는 작품이 있을까?\")\n",
    "print(result_docs[0].page_content)"
   ]
  },
  {
   "cell_type": "code",
   "execution_count": 6,
   "metadata": {},
   "outputs": [],
   "source": [
    "art_docs_list = df['art_description'].tolist()\n",
    "\n",
    "art_docs = [Document(page_content=text) for text in art_docs_list]\n",
    "\n",
    "vectorstore_art = Chroma.from_documents(\n",
    "    documents=art_docs,\n",
    "    embedding=UpstageEmbeddings(model=\"solar-embedding-1-large\"),\n",
    "    collection_name=\"art_index\"\n",
    ")\n",
    "\n",
    "retriever_art = vectorstore_art.as_retriever()"
   ]
  },
  {
   "cell_type": "code",
   "execution_count": 7,
   "metadata": {},
   "outputs": [
    {
     "name": "stdout",
     "output_type": "stream",
     "text": [
      "허수아비는 해가 저물어 황금빛으로 변하는 들판에 서 있는 장면을 담은 작품입니다. 참새를 내쫓는 용도의 허수아비는 오히려 인자한 웃음을 머금은 채 새들에게 쉴 곳을 내어주고 있습니다. 허수아비 뒤편의 인물들은 휘파람을 불고 지팡이를 하늘을 향해 치켜들며 새를 내쫓으려 하고 있습니다. 사투를 벌이는 농민과 너그러운 허수아비의 모습이 대조되어 익살스러우면서도 정겹게 표현되었습니다. 작가는 세부적인 묘사는 생략하고 황토색 계열의 따뜻한 색채로 향토적인 서정성을 담아내며, 한국의 농촌 풍경을 낭만적으로 표현했습니다.\n"
     ]
    }
   ],
   "source": [
    "result_docs = retriever_art.invoke(\"허수아비라는 작품이 있을까?\")\n",
    "print(result_docs[0].page_content)"
   ]
  },
  {
   "cell_type": "markdown",
   "metadata": {},
   "source": [
    "## 아래는 아직 진행중"
   ]
  },
  {
   "cell_type": "code",
   "execution_count": null,
   "metadata": {},
   "outputs": [],
   "source": []
  },
  {
   "cell_type": "code",
   "execution_count": null,
   "metadata": {},
   "outputs": [],
   "source": []
  },
  {
   "cell_type": "code",
   "execution_count": 28,
   "metadata": {},
   "outputs": [],
   "source": [
    "from langchain_core.prompts import PromptTemplate\n",
    "from langchain_core.output_parsers import StrOutputParser\n",
    "from langchain_upstage import ChatUpstage"
   ]
  },
  {
   "cell_type": "code",
   "execution_count": null,
   "metadata": {},
   "outputs": [],
   "source": [
    "llm = ChatUpstage()\n",
    "\n",
    "prompt_template = PromptTemplate.from_template(\n",
    "    \"\"\"\n",
    "    Please provide answer from the following context. \n",
    "    If the answer is not present in the context, please write \"The information is not present in the context.\"\n",
    "\n",
    "    ---\n",
    "    Question: {question}\n",
    "    ---\n",
    "    Context: {context}\n",
    "    \"\"\"\n",
    ")\n",
    "chain = prompt_template | llm | StrOutputParser()"
   ]
  },
  {
   "cell_type": "code",
   "execution_count": null,
   "metadata": {},
   "outputs": [
    {
     "data": {
      "text/plain": [
       "'The answer is: DUS stands for Depth Up-Scaling.'"
      ]
     },
     "metadata": {},
     "output_type": "display_data"
    }
   ],
   "source": [
    "chain.invoke({\"question\": \"What is DUS?\", \"context\": solar_summary})"
   ]
  },
  {
   "cell_type": "code",
   "execution_count": null,
   "metadata": {},
   "outputs": [],
   "source": []
  }
 ],
 "metadata": {
  "kernelspec": {
   "display_name": "up_llm_env",
   "language": "python",
   "name": "python3"
  },
  "language_info": {
   "codemirror_mode": {
    "name": "ipython",
    "version": 3
   },
   "file_extension": ".py",
   "mimetype": "text/x-python",
   "name": "python",
   "nbconvert_exporter": "python",
   "pygments_lexer": "ipython3",
   "version": "3.10.14"
  }
 },
 "nbformat": 4,
 "nbformat_minor": 2
}
