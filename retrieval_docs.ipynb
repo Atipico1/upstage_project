{
 "cells": [
  {
   "cell_type": "code",
   "execution_count": 1,
   "metadata": {},
   "outputs": [],
   "source": [
    "import pandas as pd"
   ]
  },
  {
   "cell_type": "code",
   "execution_count": 2,
   "metadata": {},
   "outputs": [],
   "source": [
    "from langchain_chroma import Chroma\n",
    "from langchain_upstage import UpstageEmbeddings\n",
    "from langchain.docstore.document import Document"
   ]
  },
  {
   "cell_type": "code",
   "execution_count": 3,
   "metadata": {},
   "outputs": [],
   "source": [
    "df = pd.read_csv(\"data/arts02.csv\")"
   ]
  },
  {
   "cell_type": "code",
   "execution_count": 4,
   "metadata": {},
   "outputs": [],
   "source": [
    "art_descriptions = df['작품 설명'].tolist()\n",
    "indexs = df['번호'].tolist()\n",
    "titles = df['작품명'].tolist()\n",
    "authors = df['작가'].tolist()\n",
    "years = df['제작연도'].tolist()\n",
    "\n",
    "art_full_docs = [\n",
    "    Document(\n",
    "        page_content=description,\n",
    "        metadata={\"indexs\": index, \"title\": title, \"author\": author, \"year\": year}\n",
    "    )\n",
    "    for description, index, title, author, year in zip(art_descriptions, indexs, titles, authors, years)\n",
    "]\n",
    "\n",
    "\n",
    "vectorstore = Chroma.from_documents(\n",
    "    documents=art_full_docs,\n",
    "    embedding=UpstageEmbeddings(model=\"solar-embedding-1-large\"),\n",
    "    collection_name=\"full_art_index\",\n",
    "    persist_directory=\"./chroma_db\"\n",
    ")\n",
    "\n",
    "retriever_full = vectorstore.as_retriever()"
   ]
  },
  {
   "cell_type": "code",
   "execution_count": 5,
   "metadata": {},
   "outputs": [
    {
     "name": "stdout",
     "output_type": "stream",
     "text": [
      "일랑(一浪) 이종상(李鍾祥, 1938-)은 서울대학교 미술대학 회화과에 입학하여 재학 중이던 1961년, 1962년 《제10회, 제11회 대한민국미술전람회》에서 연달아 특선을 받았다. 1964년부터 국전의 추천작가가 되었으며, 1968년부터는 서울대학교 동양화과 교수로 재직하며 후진을 양성했다. 이종상은 1960년대 전반 노동 현장을 소재로 한 구상화를 제작했으나, 1960년대 후반부터는 추상화 작업으로 이행했다. 특히 1960년대 후반에서 1970년대 후반까지 벽화에 관심을 가져 전통 벽화를 현대적인 미감으로 재해석했다. 이외에도 겸재 정선의 진경산수 정신성을 연구해, 한국의 풍광을 호방한 스케일과 즉흥적인 필세로 표현했다.\n",
      "\n",
      "\n",
      "<허수아비>는 해가 저물어 황금빛으로 변하는 들판에 허수아비가 서 있는 장면을 담은 작품이다. 참새를 내쫓는 용도의 허수아비는 오히려 인자한 웃음을 머금은 채 새들에게 쉴 곳을 내어주고 있다. 허수아비 뒤편의 인물들은 휘파람을 불고 지팡이를 하늘을 향해 치켜들며 새를 내쫓으려 하고 있다. 사투를 벌이는 농민과 너그러운 허수아비의 모습이 대조되어 익살스러우면서도 정겹게 표현되었다. 작가는 세부적인 묘사는 생략하고 황토색 계열의 따뜻한 색채로 향토적인 서정성을 담아내며, 한국의 농촌 풍경을 낭만적으로 표현했다.\n",
      "\n",
      "\n"
     ]
    }
   ],
   "source": [
    "result_full_docs = retriever_full.invoke(\"허수아비라는 작품이 있을까?\")\n",
    "print(result_full_docs[0].page_content)"
   ]
  },
  {
   "cell_type": "code",
   "execution_count": 6,
   "metadata": {},
   "outputs": [
    {
     "name": "stdout",
     "output_type": "stream",
     "text": [
      "일랑(一浪) 이종상(李鍾祥, 1938-)은 서울대학교 미술대학 회화과에 입학하여 재학 중이던 1961년, 1962년 《제10회, 제11회 대한민국미술전람회》에서 연달아 특선을 받았다. 1964년부터 국전의 추천작가가 되었으며, 1968년부터는 서울대학교 동양화과 교수로 재직하며 후진을 양성했다. 이종상은 1960년대 전반 노동 현장을 소재로 한 구상화를 제작했으나, 1960년대 후반부터는 추상화 작업으로 이행했다. 특히 1960년대 후반에서 1970년대 후반까지 벽화에 관심을 가져 전통 벽화를 현대적인 미감으로 재해석했다. 이외에도 겸재 정선의 진경산수 정신성을 연구해, 한국의 풍광을 호방한 스케일과 즉흥적인 필세로 표현했다.\n",
      "\n",
      "\n",
      "<허수아비>는 해가 저물어 황금빛으로 변하는 들판에 허수아비가 서 있는 장면을 담은 작품이다. 참새를 내쫓는 용도의 허수아비는 오히려 인자한 웃음을 머금은 채 새들에게 쉴 곳을 내어주고 있다. 허수아비 뒤편의 인물들은 휘파람을 불고 지팡이를 하늘을 향해 치켜들며 새를 내쫓으려 하고 있다. 사투를 벌이는 농민과 너그러운 허수아비의 모습이 대조되어 익살스러우면서도 정겹게 표현되었다. 작가는 세부적인 묘사는 생략하고 황토색 계열의 따뜻한 색채로 향토적인 서정성을 담아내며, 한국의 농촌 풍경을 낭만적으로 표현했다.\n",
      "\n",
      "\n"
     ]
    }
   ],
   "source": [
    "# save to disk\n",
    "query = \"허수아비라는 작품이 있을까?\"\n",
    "db3 = Chroma(persist_directory=\"./chroma_db\", \n",
    "             collection_name=\"full_art_index\",\n",
    "             embedding_function=UpstageEmbeddings(model=\"solar-embedding-1-large\"), )\n",
    "docs = db3.similarity_search(query)\n",
    "print(docs[0].page_content)"
   ]
  },
  {
   "cell_type": "code",
   "execution_count": 7,
   "metadata": {},
   "outputs": [],
   "source": [
    "art_descriptions = df['art_description'].tolist()\n",
    "indexs = df['번호'].tolist()\n",
    "titles = df['작품명'].tolist()\n",
    "authors = df['작가'].tolist()\n",
    "years = df['제작연도'].tolist()\n",
    "\n",
    "art_docs = [\n",
    "    Document(\n",
    "        page_content=description,\n",
    "        metadata={\"indexs\": index, \"title\": title, \"author\": author, \"year\": year}\n",
    "    )\n",
    "    for description, index, title, author, year in zip(art_descriptions, indexs, titles, authors, years)\n",
    "]\n",
    "\n",
    "vectorstore_art = Chroma.from_documents(\n",
    "    documents=art_docs,\n",
    "    embedding=UpstageEmbeddings(model=\"solar-embedding-1-large\"),\n",
    "    persist_directory=\"./chroma_db\",\n",
    "    collection_name=\"art_index\",\n",
    ")\n",
    "\n",
    "retriever_art = vectorstore_art.as_retriever()"
   ]
  },
  {
   "cell_type": "code",
   "execution_count": 8,
   "metadata": {},
   "outputs": [
    {
     "name": "stdout",
     "output_type": "stream",
     "text": [
      "허수아비는 해가 저물어 황금빛으로 변하는 들판에 서 있는 장면을 담은 작품입니다. 참새를 내쫓는 용도의 허수아비는 오히려 인자한 웃음을 머금은 채 새들에게 쉴 곳을 내어주고 있습니다. 허수아비 뒤편의 인물들은 휘파람을 불고 지팡이를 하늘을 향해 치켜들며 새를 내쫓으려 하고 있습니다. 사투를 벌이는 농민과 너그러운 허수아비의 모습이 대조되어 익살스러우면서도 정겹게 표현되었습니다. 작가는 세부적인 묘사는 생략하고 황토색 계열의 따뜻한 색채로 향토적인 서정성을 담아내며, 한국의 농촌 풍경을 낭만적으로 표현했습니다.\n"
     ]
    }
   ],
   "source": [
    "# save to disk\n",
    "query = \"허수아비라는 작품이 있을까?\"\n",
    "db3 = Chroma(persist_directory=\"./chroma_db\", \n",
    "             collection_name=\"art_index\",\n",
    "             embedding_function=UpstageEmbeddings(model=\"solar-embedding-1-large\"))\n",
    "docs = db3.similarity_search(query)\n",
    "print(docs[0].page_content)"
   ]
  },
  {
   "cell_type": "code",
   "execution_count": 11,
   "metadata": {},
   "outputs": [
    {
     "name": "stdout",
     "output_type": "stream",
     "text": [
      "허수아비는 해가 저물어 황금빛으로 변하는 들판에 서 있는 장면을 담은 작품입니다. 참새를 내쫓는 용도의 허수아비는 오히려 인자한 웃음을 머금은 채 새들에게 쉴 곳을 내어주고 있습니다. 허수아비 뒤편의 인물들은 휘파람을 불고 지팡이를 하늘을 향해 치켜들며 새를 내쫓으려 하고 있습니다. 사투를 벌이는 농민과 너그러운 허수아비의 모습이 대조되어 익살스러우면서도 정겹게 표현되었습니다. 작가는 세부적인 묘사는 생략하고 황토색 계열의 따뜻한 색채로 향토적인 서정성을 담아내며, 한국의 농촌 풍경을 낭만적으로 표현했습니다.\n"
     ]
    }
   ],
   "source": [
    "result_art_docs = retriever_art.invoke(\"허수아비라는 작품이 있을까?\")\n",
    "print(result_art_docs[0].page_content)"
   ]
  },
  {
   "cell_type": "code",
   "execution_count": null,
   "metadata": {},
   "outputs": [],
   "source": []
  },
  {
   "cell_type": "code",
   "execution_count": 20,
   "metadata": {},
   "outputs": [
    {
     "name": "stdout",
     "output_type": "stream",
     "text": [
      "남사(藍史) 이준(李俊, 1919-2021)은 경상남도 남해에서 출생하여, 1934년에 일본으로 건너가 1939년부터 다이헤이요미술학교(太平洋美術学校) 서양화과에서 수학했다. 1945년 광복 후 귀국하여 경상남도 마산에서 활동하였다. 1949년 《제1회 대한민국미술전람회(약칭 국전)》부터 꾸준히 출품하였으며, 1953년 《제2회 국전》에서는 최고상인 대통령상을 수상했다. 1954년부터 이화여자대학교 미술학부 교수로 재직했고, 1962년에는 유영국, 이대원, 이봉상 등과 함께 신상회를 창립하였다. 1967년 제9회 상파울루비엔날레에 출품한 바 있으며, 1987년 서울특별시 문화상, 1994년 오지호미술상 등을 받았다. 이준은 1950년대까지 구상적인 작품을 제작했으나, 1960년대에 앵포르멜 경향의 추상 회화를 시도했으며 1970년대에 이르러 선과 면으로 이루어진 추상화를 작업하였다.\n",
      "\n",
      "\n",
      " <점두(店頭)>는 상점들의 진열장을 바라보는 두 여인의 모습을 그린 작품이다. 어두운 색조로 인물의 피부를 칠하고, 여인이 입고 있는 옷은 청색과 적색 등의 색채 대비를 활용하는 등 단순화된 화면 구성을 확인할 수 있다. 한편 진열장의 영문과 상점의 우산, 새장과 같은 진열 상품, 인물들이 착용한 서양식 의복과 장신구는 이국적인 분위기를 자아낸다. 이 작품이 제작된 1950년대에는 한국전쟁 후 미국의 원조를 통해 ‘양품(洋品)’이라고 지칭되던 외제 물건들이 수입되었고, 백화점을 비롯해 소규모의 양품점들이 개점되며 호황을 누렸다. 이 그림에 등장하는 인물과 소품, 배경은 당대의 이러한 시대상을 반영한다. 이 그림은 1957년 《제6회 국전》에서 무감사 특선을 한 작품이다.\n"
     ]
    }
   ],
   "source": [
    "# import\n",
    "from langchain_chroma import Chroma\n",
    "from langchain_community.document_loaders import TextLoader\n",
    "from langchain_community.embeddings.sentence_transformer import (\n",
    "    SentenceTransformerEmbeddings,\n",
    ")\n",
    "from langchain_text_splitters import CharacterTextSplitter\n",
    "\n",
    "art_descriptions = df['작품 설명'].tolist()\n",
    "indexs = df['번호'].tolist()\n",
    "titles = df['작품명'].tolist()\n",
    "authors = df['작가'].tolist()\n",
    "years = df['제작연도'].tolist()\n",
    "\n",
    "art_full_docs = [\n",
    "    Document(\n",
    "        page_content=description,\n",
    "        metadata={\"indexs\": index, \"title\": title, \"author\": author, \"year\": year}\n",
    "    )\n",
    "    for description, index, title, author, year in zip(art_descriptions, indexs, titles, authors, years)\n",
    "]\n",
    "\n",
    "docs = art_full_docs\n",
    "\n",
    "# create the open-source embedding function\n",
    "embedding_function = UpstageEmbeddings(model=\"solar-embedding-1-large\")\n",
    "\n",
    "# load it into Chroma\n",
    "db = Chroma.from_documents(docs, embedding_function)\n",
    "\n",
    "# query it\n",
    "query = \"허수아비라는 작품이 있을까?\"\n",
    "docs = db.similarity_search(query)\n",
    "\n",
    "# print results\n",
    "print(docs[0].page_content)"
   ]
  },
  {
   "cell_type": "code",
   "execution_count": 23,
   "metadata": {},
   "outputs": [
    {
     "name": "stdout",
     "output_type": "stream",
     "text": [
      "김정숙(金貞淑, 1917-1991)은 조각가 윤효중에게 사사했고, 두 차례에 걸쳐 3년간 미국에서 유학했다. 1955년에 미국으로 처음 건너가 추상 조각을 배우며 석조, 용접, 테라조 등 다양한 조각방식을 수용했다. 1956년에 귀국하여 1957년부터 홍익대학교에서 교수로 재직했다. 1958년에 다시 미국으로 가서 산업디자인과 칠보(enameling)를 수학하고 1959년에 귀국했다. 《대한민국미술전람회》에 여러 차례 출품했으며, 1963년부터는 심사 위원을 맡았다. 1974년에는 윤영자(1924-2016)와 함께 주축이 되어 한국여류조각가협회를 설립하며 활발한 활동을 했다. 김정숙은 청동, 대리석, 나무, 금속 등 다양한 재료를 사용하여 주로 사랑과 생명을 주제로 형태를 단순화하여 표현했다.\n",
      "\n",
      "김정숙의 후기 주요 작업 중 하나인 '비상(飛翔)' 연작은 1970년대에 발표되어 작가가 작고하기 전까지 지속적으로 제작되었다. 김정숙은 '비상' 연작에 대해 다음과 같이 말했다. “새의 날개를 작품화하게 된 동기는 나의 심리상태랄까 내 잠재의식이 나도 모르게 구현되어 나온 것이라고 봐요. 여성으로서 사회 일선에서 전문가로 일한다는 것, 더욱이 남성들과 대등히 일한다는 것이 너무 힘들었다는 것을 절실히 느꼈어요. 그래서 훌훌 벗고 속 시원하게 날고 싶다는 생각이 절실해졌고, 그것이 날개란 모티프로 반영되어 나오지 않았나 생각합니다.”\n",
      "\n",
      "\n",
      "〈비상 C〉는 김정숙의 청동 조각으로, 좌우로 뻗은 마름모꼴의 형태와 바깥쪽에서 안쪽으로, 위에서 아래로 순환하는 듯한 곡선의 흐름, 중앙부에 생성된 보이드(void)의 공간이 세련된 균형감을 이룬다. 형태적으로는 비슷한 시기의 '꼬임' 연작이나 〈생 이전〉(1968)을 연상시키지만, 좌우대칭, 돌출된 점 하나에 무게 중심을 둔 형태 등은 이 작품을 이후 본격적으로 전개된 ‘비상’ 연작의 신호탄으로 읽힌다. 생명과 자연의 원형을 담아내고자 한 1970년대의 조각과, 새 날개의 추상화를 통해 자유와 초월, 이상향에 대한 염원 등을 담아낸 1980년대의 ‘비상’ 연작 을 잇는 작품이라 할 수 있다.\n",
      "\n",
      "\n"
     ]
    }
   ],
   "source": [
    "# save to disk\n",
    "query = \"허수아비라는 작품이 있을까?\"\n",
    "\n",
    "db2 = Chroma.from_documents(docs, embedding_function, persist_directory=\"./chroma_db\")\n",
    "docs = db2.similarity_search(query)\n",
    "\n",
    "# load from disk\n",
    "db3 = Chroma(persist_directory=\"./chroma_db\", embedding_function=embedding_function)\n",
    "docs = db3.similarity_search(query)\n",
    "print(docs[0].page_content)"
   ]
  },
  {
   "cell_type": "markdown",
   "metadata": {},
   "source": [
    "## 아래는 아직 진행중"
   ]
  },
  {
   "cell_type": "code",
   "execution_count": null,
   "metadata": {},
   "outputs": [],
   "source": []
  },
  {
   "cell_type": "code",
   "execution_count": 13,
   "metadata": {},
   "outputs": [],
   "source": [
    "input_content = result_full_docs[0].page_content"
   ]
  },
  {
   "cell_type": "code",
   "execution_count": 28,
   "metadata": {},
   "outputs": [],
   "source": [
    "from langchain_core.prompts import PromptTemplate\n",
    "from langchain_core.output_parsers import StrOutputParser\n",
    "from langchain_upstage import ChatUpstage"
   ]
  },
  {
   "cell_type": "code",
   "execution_count": null,
   "metadata": {},
   "outputs": [],
   "source": [
    "llm = ChatUpstage()\n",
    "\n",
    "prompt_template = PromptTemplate.from_template(\n",
    "    \"\"\"\n",
    "    Please provide answer from the following context. \n",
    "    If the answer is not present in the context, please write \"The information is not present in the context.\"\n",
    "\n",
    "    ---\n",
    "    Question: {question}\n",
    "    ---\n",
    "    Context: {input_content}\n",
    "    \"\"\"\n",
    ")\n",
    "chain = prompt_template | llm | StrOutputParser()"
   ]
  },
  {
   "cell_type": "code",
   "execution_count": null,
   "metadata": {},
   "outputs": [
    {
     "data": {
      "text/plain": [
       "'The answer is: DUS stands for Depth Up-Scaling.'"
      ]
     },
     "metadata": {},
     "output_type": "display_data"
    }
   ],
   "source": [
    "chain.invoke({\"question\": \"What is DUS?\", \"context\": solar_summary})"
   ]
  },
  {
   "cell_type": "code",
   "execution_count": null,
   "metadata": {},
   "outputs": [],
   "source": []
  }
 ],
 "metadata": {
  "kernelspec": {
   "display_name": "up_llm_env",
   "language": "python",
   "name": "python3"
  },
  "language_info": {
   "codemirror_mode": {
    "name": "ipython",
    "version": 3
   },
   "file_extension": ".py",
   "mimetype": "text/x-python",
   "name": "python",
   "nbconvert_exporter": "python",
   "pygments_lexer": "ipython3",
   "version": "3.10.14"
  }
 },
 "nbformat": 4,
 "nbformat_minor": 2
}
